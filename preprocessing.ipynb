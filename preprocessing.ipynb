{
 "cells": [
  {
   "cell_type": "markdown",
   "id": "c01f9dc0-90bb-492a-b511-03deb8fdfb05",
   "metadata": {},
   "source": [
    "# Preprocessing'."
   ]
  },
  {
   "cell_type": "markdown",
   "id": "685eb916-ed77-4dac-a93a-94d0aafdd99a",
   "metadata": {},
   "source": [
    "**Overview**\n",
    "\n",
    "This notebook focuses on preprocessing the dataset containing 536,641 entries and 8 columns. The dataset includes the following columns: 'InvoiceNo', 'StockCode', 'Description', 'Quantity', 'InvoiceDate', 'UnitPrice', 'CustomerID', and 'Country'."
   ]
  },
  {
   "cell_type": "code",
   "execution_count": 1,
   "id": "0aac9dc8-8ff4-421b-8589-496f43d05b51",
   "metadata": {},
   "outputs": [],
   "source": [
    "# Load the important libraries.\n",
    "\n",
    "import pandas as pd"
   ]
  },
  {
   "cell_type": "code",
   "execution_count": 2,
   "id": "4f8fbb8d-6234-4714-beb8-e8bf127c5990",
   "metadata": {},
   "outputs": [],
   "source": [
    "# Load the dataset\n",
    "df = pd.read_csv('eccomerce_business.csv')"
   ]
  },
  {
   "cell_type": "code",
   "execution_count": 3,
   "id": "2e7787ca-f739-42a3-a947-9832678d1e78",
   "metadata": {},
   "outputs": [
    {
     "data": {
      "text/plain": [
       "5268"
      ]
     },
     "execution_count": 3,
     "metadata": {},
     "output_type": "execute_result"
    }
   ],
   "source": [
    "# check for the duplicates\n",
    "df.duplicated().sum()"
   ]
  },
  {
   "cell_type": "markdown",
   "id": "096fbfb5-f82b-463d-9d39-67510d64892d",
   "metadata": {},
   "source": [
    "The dataset contains 5268 duplicates."
   ]
  },
  {
   "cell_type": "code",
   "execution_count": 4,
   "id": "955459c3-9e36-41f1-9d0f-360d4719d938",
   "metadata": {},
   "outputs": [],
   "source": [
    "# Drop the duplicates \n",
    "df.drop_duplicates(inplace = True)"
   ]
  },
  {
   "cell_type": "code",
   "execution_count": 5,
   "id": "9b3b10fd-4e97-4645-a434-1a50e04b4f12",
   "metadata": {},
   "outputs": [
    {
     "data": {
      "text/plain": [
       "0"
      ]
     },
     "execution_count": 5,
     "metadata": {},
     "output_type": "execute_result"
    }
   ],
   "source": [
    "# Recheck for duplicates\n",
    "df.duplicated().sum()"
   ]
  },
  {
   "cell_type": "markdown",
   "id": "b46b5c59-1a16-4f8e-a176-2a514df73ed0",
   "metadata": {},
   "source": [
    "Now, there are no duplicates in the dataset."
   ]
  },
  {
   "cell_type": "code",
   "execution_count": 6,
   "id": "45020ced-a7d0-4c34-94c7-33f0cfb0937f",
   "metadata": {},
   "outputs": [
    {
     "data": {
      "text/plain": [
       "InvoiceNo           0\n",
       "StockCode           0\n",
       "Description      1454\n",
       "Quantity            0\n",
       "InvoiceDate         0\n",
       "UnitPrice           0\n",
       "CustomerID     135037\n",
       "Country             0\n",
       "dtype: int64"
      ]
     },
     "execution_count": 6,
     "metadata": {},
     "output_type": "execute_result"
    }
   ],
   "source": [
    "# Checking for null values in the dataset\n",
    "df.isnull().sum()"
   ]
  },
  {
   "cell_type": "code",
   "execution_count": 7,
   "id": "46b5ce0d-5140-46d6-bf3e-9e1e9358b8eb",
   "metadata": {},
   "outputs": [
    {
     "name": "stderr",
     "output_type": "stream",
     "text": [
      "C:\\Users\\zeyam\\AppData\\Local\\Temp\\ipykernel_9864\\3013622365.py:2: FutureWarning: A value is trying to be set on a copy of a DataFrame or Series through chained assignment using an inplace method.\n",
      "The behavior will change in pandas 3.0. This inplace method will never work because the intermediate object on which we are setting values always behaves as a copy.\n",
      "\n",
      "For example, when doing 'df[col].method(value, inplace=True)', try using 'df.method({col: value}, inplace=True)' or df[col] = df[col].method(value) instead, to perform the operation inplace on the original object.\n",
      "\n",
      "\n",
      "  df['CustomerID'].fillna('Unknown', inplace=True)\n",
      "C:\\Users\\zeyam\\AppData\\Local\\Temp\\ipykernel_9864\\3013622365.py:2: FutureWarning: Setting an item of incompatible dtype is deprecated and will raise an error in a future version of pandas. Value 'Unknown' has dtype incompatible with float64, please explicitly cast to a compatible dtype first.\n",
      "  df['CustomerID'].fillna('Unknown', inplace=True)\n"
     ]
    },
    {
     "data": {
      "text/plain": [
       "InvoiceNo         0\n",
       "StockCode         0\n",
       "Description    1454\n",
       "Quantity          0\n",
       "InvoiceDate       0\n",
       "UnitPrice         0\n",
       "CustomerID        0\n",
       "Country           0\n",
       "dtype: int64"
      ]
     },
     "execution_count": 7,
     "metadata": {},
     "output_type": "execute_result"
    }
   ],
   "source": [
    "# Fill null values in the CustomerID column with a placeholder ID\n",
    "df['CustomerID'].fillna('Unknown', inplace=True)\n",
    "\n",
    "# Check the updated dataset\n",
    "updated_null_values = df.isnull().sum()\n",
    "updated_null_values"
   ]
  },
  {
   "cell_type": "code",
   "execution_count": 8,
   "id": "5b4de88e-7393-4dfe-af11-3581e3cb0ced",
   "metadata": {},
   "outputs": [
    {
     "name": "stderr",
     "output_type": "stream",
     "text": [
      "C:\\Users\\zeyam\\AppData\\Local\\Temp\\ipykernel_9864\\1889156475.py:2: FutureWarning: A value is trying to be set on a copy of a DataFrame or Series through chained assignment using an inplace method.\n",
      "The behavior will change in pandas 3.0. This inplace method will never work because the intermediate object on which we are setting values always behaves as a copy.\n",
      "\n",
      "For example, when doing 'df[col].method(value, inplace=True)', try using 'df.method({col: value}, inplace=True)' or df[col] = df[col].method(value) instead, to perform the operation inplace on the original object.\n",
      "\n",
      "\n",
      "  df['Description'].fillna('Unknown', inplace=True)\n"
     ]
    },
    {
     "data": {
      "text/plain": [
       "0"
      ]
     },
     "execution_count": 8,
     "metadata": {},
     "output_type": "execute_result"
    }
   ],
   "source": [
    "# Imputing missing values in the 'Description' column with the placeholder 'Unknown'\n",
    "df['Description'].fillna('Unknown', inplace=True)\n",
    "\n",
    "# Verifying that there are no more null values in the 'Description' column\n",
    "null_values_after_imputation = df['Description'].isnull().sum()\n",
    "null_values_after_imputation"
   ]
  },
  {
   "cell_type": "code",
   "execution_count": 9,
   "id": "8195d148-801f-4424-a74d-49af3999cb06",
   "metadata": {},
   "outputs": [],
   "source": [
    "# Converting 'CustomerID' to object\n",
    "df['CustomerID'] = df['CustomerID'].astype('object')\n",
    "\n",
    "# Converting 'InvoiceDate' to datetime\n",
    "df['InvoiceDate'] = pd.to_datetime(df['InvoiceDate'])"
   ]
  },
  {
   "cell_type": "code",
   "execution_count": 10,
   "id": "7628c07b-7bf4-4e8a-bf6f-019d0a239505",
   "metadata": {},
   "outputs": [],
   "source": [
    "# Extracting month and year from 'InvoiceDate'\n",
    "import datetime as dt\n",
    "df['Year'] = df['InvoiceDate'].dt.year\n",
    "df['Month'] = df['InvoiceDate'].dt.strftime('%B')"
   ]
  },
  {
   "cell_type": "code",
   "execution_count": 13,
   "id": "779dfd5f-91cd-4826-b22a-960cb37f3186",
   "metadata": {},
   "outputs": [],
   "source": [
    "df.to_csv('eccomerce.csv', index = False)"
   ]
  }
 ],
 "metadata": {
  "kernelspec": {
   "display_name": "Python 3 (ipykernel)",
   "language": "python",
   "name": "python3"
  },
  "language_info": {
   "codemirror_mode": {
    "name": "ipython",
    "version": 3
   },
   "file_extension": ".py",
   "mimetype": "text/x-python",
   "name": "python",
   "nbconvert_exporter": "python",
   "pygments_lexer": "ipython3",
   "version": "3.12.2"
  }
 },
 "nbformat": 4,
 "nbformat_minor": 5
}
